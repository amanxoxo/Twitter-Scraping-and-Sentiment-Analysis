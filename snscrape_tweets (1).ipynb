{
  "cells": [
    {
      "cell_type": "markdown",
      "source": [
        "# Scraping Tweets & Sentiment Analysis"
      ],
      "metadata": {
        "id": "MbkH6uRgmiWV"
      }
    },
    {
      "cell_type": "markdown",
      "metadata": {
        "id": "WvD0tUu9Hy8-"
      },
      "source": [
        "Here I show how to scrape tweets from twitter using snscrape and perform sentiment analysis using vaderSentiment. We can also perform sentiment analysis of particular mentions by certain user account. I chose @elonmusk for this task."
      ]
    },
    {
      "cell_type": "markdown",
      "metadata": {
        "id": "cv0SXmxRQIyp"
      },
      "source": [
        "# snScrape"
      ]
    },
    {
      "cell_type": "code",
      "execution_count": null,
      "metadata": {
        "colab": {
          "base_uri": "https://localhost:8080/"
        },
        "id": "-pNzl8adw1PE",
        "outputId": "ec09c80f-dd83-431c-941f-807f78d9d361"
      },
      "outputs": [
        {
          "output_type": "stream",
          "name": "stdout",
          "text": [
            "Looking in indexes: https://pypi.org/simple, https://us-python.pkg.dev/colab-wheels/public/simple/\n",
            "Collecting snscrape\n",
            "  Downloading snscrape-0.3.4-py3-none-any.whl (35 kB)\n",
            "Requirement already satisfied: lxml in /usr/local/lib/python3.7/dist-packages (from snscrape) (4.2.6)\n",
            "Requirement already satisfied: beautifulsoup4 in /usr/local/lib/python3.7/dist-packages (from snscrape) (4.6.3)\n",
            "Requirement already satisfied: requests[socks] in /usr/local/lib/python3.7/dist-packages (from snscrape) (2.23.0)\n",
            "Requirement already satisfied: certifi>=2017.4.17 in /usr/local/lib/python3.7/dist-packages (from requests[socks]->snscrape) (2022.6.15)\n",
            "Requirement already satisfied: urllib3!=1.25.0,!=1.25.1,<1.26,>=1.21.1 in /usr/local/lib/python3.7/dist-packages (from requests[socks]->snscrape) (1.24.3)\n",
            "Requirement already satisfied: chardet<4,>=3.0.2 in /usr/local/lib/python3.7/dist-packages (from requests[socks]->snscrape) (3.0.4)\n",
            "Requirement already satisfied: idna<3,>=2.5 in /usr/local/lib/python3.7/dist-packages (from requests[socks]->snscrape) (2.10)\n",
            "Requirement already satisfied: PySocks!=1.5.7,>=1.5.6 in /usr/local/lib/python3.7/dist-packages (from requests[socks]->snscrape) (1.7.1)\n",
            "Installing collected packages: snscrape\n",
            "Successfully installed snscrape-0.3.4\n"
          ]
        }
      ],
      "source": [
        "!pip3 install snscrape"
      ]
    },
    {
      "cell_type": "code",
      "execution_count": null,
      "metadata": {
        "id": "Z3S7NJvJxdE1"
      },
      "outputs": [],
      "source": [
        "import snscrape.modules.twitter as sntwitter\n",
        "import pandas as pd\n",
        "import matplotlib.pyplot as plt\n",
        "import numpy as np"
      ]
    },
    {
      "cell_type": "code",
      "execution_count": null,
      "metadata": {
        "colab": {
          "base_uri": "https://localhost:8080/",
          "height": 424
        },
        "id": "q_uAtysTxeKy",
        "outputId": "1ee63041-9341-4163-abf1-50d04823cd1c"
      },
      "outputs": [
        {
          "output_type": "execute_result",
          "data": {
            "text/plain": [
              "                                                   Text\n",
              "0     @karpathy True. I have a CO2 monitor on my des...\n",
              "1     @SpaceX @Space_Station About twice as much use...\n",
              "2                                    @tanayj Absolutely\n",
              "3     @Erdayastronaut @LevEakins More accurate word ...\n",
              "4               @Rainmaker1973 I use this example a lot\n",
              "...                                                 ...\n",
              "9995                        @CormacSheehan1 Occupy Mars\n",
              "9996                                     @tesla_truth 👍\n",
              "9997  Cat is out of the bag 🧙‍♂️ \\nhttps://t.co/epUK...\n",
              "9998  @austinbarnard45 Exciting progress in Boca! Ho...\n",
              "9999                     @DiscoverMag Sharknado is real\n",
              "\n",
              "[10000 rows x 1 columns]"
            ],
            "text/html": [
              "\n",
              "  <div id=\"df-120a0c8a-c1a1-432a-ba0f-8bbca8014115\">\n",
              "    <div class=\"colab-df-container\">\n",
              "      <div>\n",
              "<style scoped>\n",
              "    .dataframe tbody tr th:only-of-type {\n",
              "        vertical-align: middle;\n",
              "    }\n",
              "\n",
              "    .dataframe tbody tr th {\n",
              "        vertical-align: top;\n",
              "    }\n",
              "\n",
              "    .dataframe thead th {\n",
              "        text-align: right;\n",
              "    }\n",
              "</style>\n",
              "<table border=\"1\" class=\"dataframe\">\n",
              "  <thead>\n",
              "    <tr style=\"text-align: right;\">\n",
              "      <th></th>\n",
              "      <th>Text</th>\n",
              "    </tr>\n",
              "  </thead>\n",
              "  <tbody>\n",
              "    <tr>\n",
              "      <th>0</th>\n",
              "      <td>@karpathy True. I have a CO2 monitor on my des...</td>\n",
              "    </tr>\n",
              "    <tr>\n",
              "      <th>1</th>\n",
              "      <td>@SpaceX @Space_Station About twice as much use...</td>\n",
              "    </tr>\n",
              "    <tr>\n",
              "      <th>2</th>\n",
              "      <td>@tanayj Absolutely</td>\n",
              "    </tr>\n",
              "    <tr>\n",
              "      <th>3</th>\n",
              "      <td>@Erdayastronaut @LevEakins More accurate word ...</td>\n",
              "    </tr>\n",
              "    <tr>\n",
              "      <th>4</th>\n",
              "      <td>@Rainmaker1973 I use this example a lot</td>\n",
              "    </tr>\n",
              "    <tr>\n",
              "      <th>...</th>\n",
              "      <td>...</td>\n",
              "    </tr>\n",
              "    <tr>\n",
              "      <th>9995</th>\n",
              "      <td>@CormacSheehan1 Occupy Mars</td>\n",
              "    </tr>\n",
              "    <tr>\n",
              "      <th>9996</th>\n",
              "      <td>@tesla_truth 👍</td>\n",
              "    </tr>\n",
              "    <tr>\n",
              "      <th>9997</th>\n",
              "      <td>Cat is out of the bag 🧙‍♂️ \\nhttps://t.co/epUK...</td>\n",
              "    </tr>\n",
              "    <tr>\n",
              "      <th>9998</th>\n",
              "      <td>@austinbarnard45 Exciting progress in Boca! Ho...</td>\n",
              "    </tr>\n",
              "    <tr>\n",
              "      <th>9999</th>\n",
              "      <td>@DiscoverMag Sharknado is real</td>\n",
              "    </tr>\n",
              "  </tbody>\n",
              "</table>\n",
              "<p>10000 rows × 1 columns</p>\n",
              "</div>\n",
              "      <button class=\"colab-df-convert\" onclick=\"convertToInteractive('df-120a0c8a-c1a1-432a-ba0f-8bbca8014115')\"\n",
              "              title=\"Convert this dataframe to an interactive table.\"\n",
              "              style=\"display:none;\">\n",
              "        \n",
              "  <svg xmlns=\"http://www.w3.org/2000/svg\" height=\"24px\"viewBox=\"0 0 24 24\"\n",
              "       width=\"24px\">\n",
              "    <path d=\"M0 0h24v24H0V0z\" fill=\"none\"/>\n",
              "    <path d=\"M18.56 5.44l.94 2.06.94-2.06 2.06-.94-2.06-.94-.94-2.06-.94 2.06-2.06.94zm-11 1L8.5 8.5l.94-2.06 2.06-.94-2.06-.94L8.5 2.5l-.94 2.06-2.06.94zm10 10l.94 2.06.94-2.06 2.06-.94-2.06-.94-.94-2.06-.94 2.06-2.06.94z\"/><path d=\"M17.41 7.96l-1.37-1.37c-.4-.4-.92-.59-1.43-.59-.52 0-1.04.2-1.43.59L10.3 9.45l-7.72 7.72c-.78.78-.78 2.05 0 2.83L4 21.41c.39.39.9.59 1.41.59.51 0 1.02-.2 1.41-.59l7.78-7.78 2.81-2.81c.8-.78.8-2.07 0-2.86zM5.41 20L4 18.59l7.72-7.72 1.47 1.35L5.41 20z\"/>\n",
              "  </svg>\n",
              "      </button>\n",
              "      \n",
              "  <style>\n",
              "    .colab-df-container {\n",
              "      display:flex;\n",
              "      flex-wrap:wrap;\n",
              "      gap: 12px;\n",
              "    }\n",
              "\n",
              "    .colab-df-convert {\n",
              "      background-color: #E8F0FE;\n",
              "      border: none;\n",
              "      border-radius: 50%;\n",
              "      cursor: pointer;\n",
              "      display: none;\n",
              "      fill: #1967D2;\n",
              "      height: 32px;\n",
              "      padding: 0 0 0 0;\n",
              "      width: 32px;\n",
              "    }\n",
              "\n",
              "    .colab-df-convert:hover {\n",
              "      background-color: #E2EBFA;\n",
              "      box-shadow: 0px 1px 2px rgba(60, 64, 67, 0.3), 0px 1px 3px 1px rgba(60, 64, 67, 0.15);\n",
              "      fill: #174EA6;\n",
              "    }\n",
              "\n",
              "    [theme=dark] .colab-df-convert {\n",
              "      background-color: #3B4455;\n",
              "      fill: #D2E3FC;\n",
              "    }\n",
              "\n",
              "    [theme=dark] .colab-df-convert:hover {\n",
              "      background-color: #434B5C;\n",
              "      box-shadow: 0px 1px 3px 1px rgba(0, 0, 0, 0.15);\n",
              "      filter: drop-shadow(0px 1px 2px rgba(0, 0, 0, 0.3));\n",
              "      fill: #FFFFFF;\n",
              "    }\n",
              "  </style>\n",
              "\n",
              "      <script>\n",
              "        const buttonEl =\n",
              "          document.querySelector('#df-120a0c8a-c1a1-432a-ba0f-8bbca8014115 button.colab-df-convert');\n",
              "        buttonEl.style.display =\n",
              "          google.colab.kernel.accessAllowed ? 'block' : 'none';\n",
              "\n",
              "        async function convertToInteractive(key) {\n",
              "          const element = document.querySelector('#df-120a0c8a-c1a1-432a-ba0f-8bbca8014115');\n",
              "          const dataTable =\n",
              "            await google.colab.kernel.invokeFunction('convertToInteractive',\n",
              "                                                     [key], {});\n",
              "          if (!dataTable) return;\n",
              "\n",
              "          const docLinkHtml = 'Like what you see? Visit the ' +\n",
              "            '<a target=\"_blank\" href=https://colab.research.google.com/notebooks/data_table.ipynb>data table notebook</a>'\n",
              "            + ' to learn more about interactive tables.';\n",
              "          element.innerHTML = '';\n",
              "          dataTable['output_type'] = 'display_data';\n",
              "          await google.colab.output.renderOutput(dataTable, element);\n",
              "          const docLink = document.createElement('div');\n",
              "          docLink.innerHTML = docLinkHtml;\n",
              "          element.appendChild(docLink);\n",
              "        }\n",
              "      </script>\n",
              "    </div>\n",
              "  </div>\n",
              "  "
            ]
          },
          "metadata": {},
          "execution_count": 5
        }
      ],
      "source": [
        "# define a function to scrape tweets for any username\n",
        "def scrape(username,max_tweets):\n",
        "    tweets_list1 = []\n",
        "    ll = ['from',username]\n",
        "    l = ':'\n",
        "    l = l.join(ll)\n",
        "    for i,tweet in enumerate(sntwitter.TwitterSearchScraper(l).get_items()):\n",
        "        if i>max_tweets-1:\n",
        "            break\n",
        "        tweets_list1.append([tweet.content])\n",
        "    tweets_df1 = pd.DataFrame(tweets_list1, columns=['Text'])\n",
        "    return(tweets_df1)\n",
        "\n",
        "df1 = scrape('elonmusk',10**4)\n",
        "df1"
      ]
    },
    {
      "cell_type": "markdown",
      "metadata": {
        "id": "V5X5eAxrNbG5"
      },
      "source": [
        "One can also use snscrape to scrape conditional tweets. Simply go to advanced search in twitter, copy the text from search box and paste into the code below. For example; here I scrape latest 100 tweets where @elonmusk has used the word 'sleep'.\n",
        "\n",
        "```\n",
        "def condn(condition,maxTweets):\n",
        "    tweets_list1 = []\n",
        "    for i,tweet in enumerate(sntwitter.TwitterSearchScraper(str(condition)).get_items()):\n",
        "        if i>maxTweets-1:\n",
        "            break\n",
        "        tweets_list1.append([tweet.content])\n",
        "    tweets_df1 = pd.DataFrame(tweets_list1, columns=['Text'])\n",
        "    return(tweets_df1)\n",
        "\n",
        "df = condn('sleep (from:elonmusk)',10**2)\n",
        "print(df)\n",
        "```\n",
        "\n"
      ]
    },
    {
      "cell_type": "code",
      "execution_count": null,
      "metadata": {
        "id": "IANq4VFZPbv3"
      },
      "outputs": [],
      "source": [
        "df = df1['Text']  # makes df a series\n",
        "\n",
        "all_sentences = [] # make a list whose each element is a single tweet\n",
        "for word in df:\n",
        "    all_sentences.append(word)\n",
        "print(all_sentences)"
      ]
    },
    {
      "cell_type": "markdown",
      "metadata": {
        "id": "2PSMqUGDP5uB"
      },
      "source": [
        "# Sentiment Analysis using vaderSentiment.SentimentIntensityAnalyser"
      ]
    },
    {
      "cell_type": "code",
      "execution_count": null,
      "metadata": {
        "colab": {
          "base_uri": "https://localhost:8080/"
        },
        "id": "Rk1m2-mqU-PB",
        "outputId": "70207aa0-bf58-4713-9b25-1559f35b75ff"
      },
      "outputs": [
        {
          "output_type": "stream",
          "name": "stdout",
          "text": [
            "Looking in indexes: https://pypi.org/simple, https://us-python.pkg.dev/colab-wheels/public/simple/\n",
            "Collecting vaderSentiment\n",
            "  Downloading vaderSentiment-3.3.2-py2.py3-none-any.whl (125 kB)\n",
            "\u001b[K     |████████████████████████████████| 125 kB 15.7 MB/s \n",
            "\u001b[?25hRequirement already satisfied: requests in /usr/local/lib/python3.7/dist-packages (from vaderSentiment) (2.23.0)\n",
            "Requirement already satisfied: urllib3!=1.25.0,!=1.25.1,<1.26,>=1.21.1 in /usr/local/lib/python3.7/dist-packages (from requests->vaderSentiment) (1.24.3)\n",
            "Requirement already satisfied: idna<3,>=2.5 in /usr/local/lib/python3.7/dist-packages (from requests->vaderSentiment) (2.10)\n",
            "Requirement already satisfied: chardet<4,>=3.0.2 in /usr/local/lib/python3.7/dist-packages (from requests->vaderSentiment) (3.0.4)\n",
            "Requirement already satisfied: certifi>=2017.4.17 in /usr/local/lib/python3.7/dist-packages (from requests->vaderSentiment) (2022.6.15)\n",
            "Installing collected packages: vaderSentiment\n",
            "Successfully installed vaderSentiment-3.3.2\n"
          ]
        }
      ],
      "source": [
        "!pip install vaderSentiment"
      ]
    },
    {
      "cell_type": "code",
      "execution_count": null,
      "metadata": {
        "id": "KVzdXnUNOTIT"
      },
      "outputs": [],
      "source": [
        "# importing SentimentIntensityAnalyzer\n",
        "from vaderSentiment.vaderSentiment import SentimentIntensityAnalyzer"
      ]
    },
    {
      "cell_type": "code",
      "execution_count": null,
      "metadata": {
        "id": "FYkHgYl5N0K4"
      },
      "outputs": [],
      "source": [
        "pos, neg, neu, oberall, positive, negative, neutral = ([] for i in range(7))\n",
        "\n",
        "for i in range(len(df)):  \n",
        "    sid_obj = SentimentIntensityAnalyzer()\n",
        "    sentiment_dict = sid_obj.polarity_scores(df[i])\n",
        "    pos.append(sentiment_dict['pos']*100)\n",
        "    neg.append(sentiment_dict['neg']*100)\n",
        "    neu.append(sentiment_dict['neu']*100)\n",
        "    if sentiment_dict['compound'] >= 0.05 :\n",
        "      positive.append(1)\n",
        " \n",
        "    elif sentiment_dict['compound'] <= - 0.05 :\n",
        "      negative.append(-1)\n",
        " \n",
        "    else :\n",
        "      neutral.append(0)"
      ]
    },
    {
      "cell_type": "code",
      "execution_count": null,
      "metadata": {
        "colab": {
          "base_uri": "https://localhost:8080/",
          "height": 283
        },
        "id": "VwAmGcvQVYfV",
        "outputId": "ab534413-f206-4af0-8be4-b39bee05e8b8"
      },
      "outputs": [
        {
          "output_type": "display_data",
          "data": {
            "text/plain": [
              "<Figure size 432x288 with 1 Axes>"
            ],
            "image/png": "[encoded data removed]"
          },
          "metadata": {
            "needs_background": "light"
          }
        }
      ],
      "source": [
        "# define a function to map all zero values to NaN\n",
        "def zero_to_nan(sample): \n",
        "    return [np.nan if x==0 else x for x in sample]\n",
        "pos,neg = zero_to_nan(pos),zero_to_nan(neg)\n",
        "\n",
        "plt.scatter(np.arange(1,len(df)+1,1),pos,label='positive')\n",
        "plt.scatter(np.arange(1,len(df)+1,1),neg,label='negative')\n",
        "plt.xlabel('$n^{th}$ tweet')\n",
        "plt.ylabel('positive / negative score')\n",
        "plt.legend(loc='best')\n",
        "plt.show()"
      ]
    },
    {
      "cell_type": "code",
      "execution_count": null,
      "metadata": {
        "colab": {
          "base_uri": "https://localhost:8080/",
          "height": 411
        },
        "id": "UTKW8pnUTAVr",
        "outputId": "08999f7b-d0ee-4cc1-e53c-c676677d04ce"
      },
      "outputs": [
        {
          "output_type": "display_data",
          "data": {
            "text/plain": [
              "<Figure size 720x504 with 1 Axes>"
            ],
            "image/png": "[encoded data removed]"
          },
          "metadata": {}
        }
      ],
      "source": [
        "sentiments = ['Positive', 'Negative', 'Neutral']\n",
        "analysis = [len(positive),len(negative),len(neutral)]\n",
        "# Creating plot\n",
        "fig = plt.figure(figsize =(10, 7))\n",
        "plt.pie(analysis, labels = sentiments)\n",
        "plt.show()"
      ]
    },
    {
      "cell_type": "markdown",
      "metadata": {
        "id": "-voY_id0Tl3i"
      },
      "source": [
        "# Sentiment Analysis of tweets from @elonmusk mentioning particular user."
      ]
    },
    {
      "cell_type": "markdown",
      "source": [
        "Process is simple and almost same as before, we just add a few steps. Firstly, we get a frequency count of every mention in the corpus. Secondly we filter the tweets mentioning the user of our choice and perform sentiment analysis."
      ],
      "metadata": {
        "id": "dv-tlaEmaJAR"
      }
    },
    {
      "cell_type": "code",
      "source": [
        "df = df1['Text']\n",
        "all_sentences = []\n",
        "for word in df:\n",
        "    all_sentences.append(word)\n",
        "\n",
        "lines = list()\n",
        "for line in all_sentences:    \n",
        "    words = line.split()\n",
        "    for w in words: \n",
        "       lines.append(w)\n",
        "\n",
        "import re\n",
        "lines = [re.sub(r'[^@A-Za-z0-9]+', '', x) for x in lines]\n",
        "print(lines)"
      ],
      "metadata": {
        "id": "uJmjUIjpaeip"
      },
      "execution_count": null,
      "outputs": []
    },
    {
      "cell_type": "code",
      "execution_count": null,
      "metadata": {
        "colab": {
          "base_uri": "https://localhost:8080/"
        },
        "id": "0JQwD1RNUDuA",
        "outputId": "d7690dec-bb58-4c78-aaa5-8c7424ba7617"
      },
      "outputs": [
        {
          "output_type": "execute_result",
          "data": {
            "text/plain": [
              "@Erdayastronaut    509\n",
              "@Tesla             478\n",
              "@PPathole          452\n",
              "@SpaceX            429\n",
              "@teslaownersSV     412\n",
              "                  ... \n",
              "@juanjacobs          1\n",
              "@JoshTownsend96      1\n",
              "@IEEEorg             1\n",
              "@bartsanders         1\n",
              "@CormacSheehan1      1\n",
              "Name: 0, Length: 3243, dtype: int64"
            ]
          },
          "metadata": {},
          "execution_count": 49
        }
      ],
      "source": [
        "mentions = pd.DataFrame([x for x in lines if x.startswith('@')])\n",
        "mentions[0].value_counts()"
      ]
    },
    {
      "cell_type": "code",
      "execution_count": null,
      "metadata": {
        "colab": {
          "base_uri": "https://localhost:8080/",
          "height": 424
        },
        "id": "X0u4OQ1SU1RZ",
        "outputId": "4a27b4ee-8b73-40dc-a1d3-8c14cdefccd5"
      },
      "outputs": [
        {
          "output_type": "execute_result",
          "data": {
            "text/plain": [
              "                                                   Text\n",
              "14    @teslaownersSV @Tesla We’re making progress wi...\n",
              "50    @Teslarati @ResidentSponge Join our undergroun...\n",
              "55    @ajtourville @Tesla No problem to recycle the ...\n",
              "83    @GailAlfarATX @Tesla @teslacn @TeslaOwnersEBay...\n",
              "213   @TeslaAIBot @__SeriousGemini But we should hav...\n",
              "...                                                 ...\n",
              "9982         @Kristennetten @lexfridman @Tesla ~Q4 2016\n",
              "9983  @dodiewill2 @lexfridman @Tesla End of Q4, most...\n",
              "9984  @flcnhvy @lexfridman @Tesla Production fully s...\n",
              "9985  @lexfridman @Tesla This is why it’s possible f...\n",
              "9986  @lexfridman @Tesla All HW2+ cars are upgradabl...\n",
              "\n",
              "[875 rows x 1 columns]"
            ],
            "text/html": [
              "\n",
              "  <div id=\"df-7a5562cd-25af-4e6a-b977-fa35388c9c6c\">\n",
              "    <div class=\"colab-df-container\">\n",
              "      <div>\n",
              "<style scoped>\n",
              "    .dataframe tbody tr th:only-of-type {\n",
              "        vertical-align: middle;\n",
              "    }\n",
              "\n",
              "    .dataframe tbody tr th {\n",
              "        vertical-align: top;\n",
              "    }\n",
              "\n",
              "    .dataframe thead th {\n",
              "        text-align: right;\n",
              "    }\n",
              "</style>\n",
              "<table border=\"1\" class=\"dataframe\">\n",
              "  <thead>\n",
              "    <tr style=\"text-align: right;\">\n",
              "      <th></th>\n",
              "      <th>Text</th>\n",
              "    </tr>\n",
              "  </thead>\n",
              "  <tbody>\n",
              "    <tr>\n",
              "      <th>14</th>\n",
              "      <td>@teslaownersSV @Tesla We’re making progress wi...</td>\n",
              "    </tr>\n",
              "    <tr>\n",
              "      <th>50</th>\n",
              "      <td>@Teslarati @ResidentSponge Join our undergroun...</td>\n",
              "    </tr>\n",
              "    <tr>\n",
              "      <th>55</th>\n",
              "      <td>@ajtourville @Tesla No problem to recycle the ...</td>\n",
              "    </tr>\n",
              "    <tr>\n",
              "      <th>83</th>\n",
              "      <td>@GailAlfarATX @Tesla @teslacn @TeslaOwnersEBay...</td>\n",
              "    </tr>\n",
              "    <tr>\n",
              "      <th>213</th>\n",
              "      <td>@TeslaAIBot @__SeriousGemini But we should hav...</td>\n",
              "    </tr>\n",
              "    <tr>\n",
              "      <th>...</th>\n",
              "      <td>...</td>\n",
              "    </tr>\n",
              "    <tr>\n",
              "      <th>9982</th>\n",
              "      <td>@Kristennetten @lexfridman @Tesla ~Q4 2016</td>\n",
              "    </tr>\n",
              "    <tr>\n",
              "      <th>9983</th>\n",
              "      <td>@dodiewill2 @lexfridman @Tesla End of Q4, most...</td>\n",
              "    </tr>\n",
              "    <tr>\n",
              "      <th>9984</th>\n",
              "      <td>@flcnhvy @lexfridman @Tesla Production fully s...</td>\n",
              "    </tr>\n",
              "    <tr>\n",
              "      <th>9985</th>\n",
              "      <td>@lexfridman @Tesla This is why it’s possible f...</td>\n",
              "    </tr>\n",
              "    <tr>\n",
              "      <th>9986</th>\n",
              "      <td>@lexfridman @Tesla All HW2+ cars are upgradabl...</td>\n",
              "    </tr>\n",
              "  </tbody>\n",
              "</table>\n",
              "<p>875 rows × 1 columns</p>\n",
              "</div>\n",
              "      <button class=\"colab-df-convert\" onclick=\"convertToInteractive('df-7a5562cd-25af-4e6a-b977-fa35388c9c6c')\"\n",
              "              title=\"Convert this dataframe to an interactive table.\"\n",
              "              style=\"display:none;\">\n",
              "        \n",
              "  <svg xmlns=\"http://www.w3.org/2000/svg\" height=\"24px\"viewBox=\"0 0 24 24\"\n",
              "       width=\"24px\">\n",
              "    <path d=\"M0 0h24v24H0V0z\" fill=\"none\"/>\n",
              "    <path d=\"M18.56 5.44l.94 2.06.94-2.06 2.06-.94-2.06-.94-.94-2.06-.94 2.06-2.06.94zm-11 1L8.5 8.5l.94-2.06 2.06-.94-2.06-.94L8.5 2.5l-.94 2.06-2.06.94zm10 10l.94 2.06.94-2.06 2.06-.94-2.06-.94-.94-2.06-.94 2.06-2.06.94z\"/><path d=\"M17.41 7.96l-1.37-1.37c-.4-.4-.92-.59-1.43-.59-.52 0-1.04.2-1.43.59L10.3 9.45l-7.72 7.72c-.78.78-.78 2.05 0 2.83L4 21.41c.39.39.9.59 1.41.59.51 0 1.02-.2 1.41-.59l7.78-7.78 2.81-2.81c.8-.78.8-2.07 0-2.86zM5.41 20L4 18.59l7.72-7.72 1.47 1.35L5.41 20z\"/>\n",
              "  </svg>\n",
              "      </button>\n",
              "      \n",
              "  <style>\n",
              "    .colab-df-container {\n",
              "      display:flex;\n",
              "      flex-wrap:wrap;\n",
              "      gap: 12px;\n",
              "    }\n",
              "\n",
              "    .colab-df-convert {\n",
              "      background-color: #E8F0FE;\n",
              "      border: none;\n",
              "      border-radius: 50%;\n",
              "      cursor: pointer;\n",
              "      display: none;\n",
              "      fill: #1967D2;\n",
              "      height: 32px;\n",
              "      padding: 0 0 0 0;\n",
              "      width: 32px;\n",
              "    }\n",
              "\n",
              "    .colab-df-convert:hover {\n",
              "      background-color: #E2EBFA;\n",
              "      box-shadow: 0px 1px 2px rgba(60, 64, 67, 0.3), 0px 1px 3px 1px rgba(60, 64, 67, 0.15);\n",
              "      fill: #174EA6;\n",
              "    }\n",
              "\n",
              "    [theme=dark] .colab-df-convert {\n",
              "      background-color: #3B4455;\n",
              "      fill: #D2E3FC;\n",
              "    }\n",
              "\n",
              "    [theme=dark] .colab-df-convert:hover {\n",
              "      background-color: #434B5C;\n",
              "      box-shadow: 0px 1px 3px 1px rgba(0, 0, 0, 0.15);\n",
              "      filter: drop-shadow(0px 1px 2px rgba(0, 0, 0, 0.3));\n",
              "      fill: #FFFFFF;\n",
              "    }\n",
              "  </style>\n",
              "\n",
              "      <script>\n",
              "        const buttonEl =\n",
              "          document.querySelector('#df-7a5562cd-25af-4e6a-b977-fa35388c9c6c button.colab-df-convert');\n",
              "        buttonEl.style.display =\n",
              "          google.colab.kernel.accessAllowed ? 'block' : 'none';\n",
              "\n",
              "        async function convertToInteractive(key) {\n",
              "          const element = document.querySelector('#df-7a5562cd-25af-4e6a-b977-fa35388c9c6c');\n",
              "          const dataTable =\n",
              "            await google.colab.kernel.invokeFunction('convertToInteractive',\n",
              "                                                     [key], {});\n",
              "          if (!dataTable) return;\n",
              "\n",
              "          const docLinkHtml = 'Like what you see? Visit the ' +\n",
              "            '<a target=\"_blank\" href=https://colab.research.google.com/notebooks/data_table.ipynb>data table notebook</a>'\n",
              "            + ' to learn more about interactive tables.';\n",
              "          element.innerHTML = '';\n",
              "          dataTable['output_type'] = 'display_data';\n",
              "          await google.colab.output.renderOutput(dataTable, element);\n",
              "          const docLink = document.createElement('div');\n",
              "          docLink.innerHTML = docLinkHtml;\n",
              "          element.appendChild(docLink);\n",
              "        }\n",
              "      </script>\n",
              "    </div>\n",
              "  </div>\n",
              "  "
            ]
          },
          "metadata": {},
          "execution_count": 50
        }
      ],
      "source": [
        "df2 = df1.iloc[df.str.contains(pat = '@Tesla')[df.str.contains(pat = '@Tesla')].index.values]\n",
        "df2"
      ]
    },
    {
      "cell_type": "code",
      "source": [
        "df2 = df2['Text']  #to make df a series\n",
        "\n",
        "df = []\n",
        "for word in df2:\n",
        "    df.append(word)\n",
        "print(df)"
      ],
      "metadata": {
        "id": "FB_Wjz2KVc0m"
      },
      "execution_count": null,
      "outputs": []
    },
    {
      "cell_type": "code",
      "execution_count": null,
      "metadata": {
        "id": "Juspj0AAV5KI"
      },
      "outputs": [],
      "source": [
        "pos, neg, neu, oberall, positive, negative, neutral = ([] for i in range(7))\n",
        "for i in range(len(df)):  \n",
        "    sid_obj = SentimentIntensityAnalyzer()\n",
        "    sentiment_dict = sid_obj.polarity_scores(df[i])\n",
        "    pos.append(sentiment_dict['pos']*100)\n",
        "    neg.append(sentiment_dict['neg']*100)\n",
        "    neu.append(sentiment_dict['neu']*100)\n",
        "    if sentiment_dict['compound'] >= 0.05 :\n",
        "      positive.append(1)\n",
        " \n",
        "    elif sentiment_dict['compound'] <= - 0.05 :\n",
        "      negative.append(-1)\n",
        " \n",
        "    else :\n",
        "      neutral.append(0)\n",
        "\n",
        "def zero_to_nan(sample):\n",
        "    return [np.nan if x==0 else x for x in sample]\n",
        "pos,neg = zero_to_nan(pos),zero_to_nan(neg)\n"
      ]
    },
    {
      "cell_type": "code",
      "source": [
        "plt.scatter(np.arange(1,len(df)+1,1),pos,label='positive')\n",
        "plt.scatter(np.arange(1,len(df)+1,1),neg,label='negative')\n",
        "plt.xlabel('$n^{th}$ tweet')\n",
        "plt.ylabel('positive / negative score')\n",
        "plt.legend(loc='best')\n",
        "plt.show()"
      ],
      "metadata": {
        "colab": {
          "base_uri": "https://localhost:8080/",
          "height": 283
        },
        "id": "7tfN7MNIWFSb",
        "outputId": "09fa1791-bcbf-4d5e-a8e2-b34d1b6f616b"
      },
      "execution_count": null,
      "outputs": [
        {
          "output_type": "display_data",
          "data": {
            "text/plain": [
              "<Figure size 432x288 with 1 Axes>"
            ],
            "image/png": "[encoded data removed]"
          },
          "metadata": {
            "needs_background": "light"
          }
        }
      ]
    },
    {
      "cell_type": "code",
      "source": [
        "sentiments = ['Positive', 'Negative', 'Neutral']\n",
        "analysis = [len(positive),len(negative),len(neutral)]\n",
        "# Creating plot\n",
        "fig = plt.figure(figsize =(10, 7))\n",
        "plt.pie(analysis, labels = sentiments)\n",
        "plt.show()"
      ],
      "metadata": {
        "colab": {
          "base_uri": "https://localhost:8080/",
          "height": 411
        },
        "id": "hFa68e2QWFHc",
        "outputId": "355fe44e-f8d3-4cab-946c-5da7ba48b0c3"
      },
      "execution_count": null,
      "outputs": [
        {
          "output_type": "display_data",
          "data": {
            "text/plain": [
              "<Figure size 720x504 with 1 Axes>"
            ],
            "image/png": "[encoded data removed]"
          },
          "metadata": {}
        }
      ]
    },
    {
      "cell_type": "code",
      "source": [
        ""
      ],
      "metadata": {
        "id": "gqrQI9j8mLjH"
      },
      "execution_count": null,
      "outputs": []
    }
  ],
  "metadata": {
    "colab": {
      "name": "snscrape_tweets.ipynb",
      "provenance": [],
      "collapsed_sections": [
        "cv0SXmxRQIyp",
        "2PSMqUGDP5uB"
      ]
    },
    "kernelspec": {
      "display_name": "Python 3",
      "name": "python3"
    },
    "language_info": {
      "name": "python"
    }
  },
  "nbformat": 4,
  "nbformat_minor": 0
}